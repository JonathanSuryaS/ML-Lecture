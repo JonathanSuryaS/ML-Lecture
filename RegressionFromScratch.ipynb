{
 "cells": [
  {
   "cell_type": "markdown",
   "metadata": {},
   "source": [
    "# Linear Regression from Scratch"
   ]
  },
  {
   "cell_type": "markdown",
   "metadata": {},
   "source": [
    "# Libraries"
   ]
  },
  {
   "cell_type": "code",
   "execution_count": 16,
   "metadata": {},
   "outputs": [],
   "source": [
    "import numpy as np\n",
    "import pandas as pd\n",
    "import matplotlib.pyplot as plt\n",
    "import seaborn as sns\n",
    "import plotly.express as px"
   ]
  },
  {
   "cell_type": "code",
   "execution_count": 17,
   "metadata": {},
   "outputs": [],
   "source": [
    "class SimpleLinearRegression:\n",
    "    def __init__(self):\n",
    "        self.slope_ = None\n",
    "        self.intercept_ = None\n",
    "        self.residual_ = None\n",
    "        self.RSS = None\n",
    "        self.TSS = None\n",
    "        self.r2score_ = None\n",
    "        \n",
    "    def fit(self, x, y):\n",
    "        # Calculate the mean of the input (x) and output data (y)\n",
    "        x_mean = np.mean(x)\n",
    "        y_mean = np.mean(y)\n",
    "        \n",
    "        # Calculate the terms needed for the slope (b1) and intercept (bo) of the regression line \n",
    "        numerator = np.sum((x - x_mean) * (y - y_mean))\n",
    "        denominator = np.sum((x - x_mean) ** 2)\n",
    "\n",
    "        # Calculate the slope (b1) and intercept (bo) of the regression line (regression equation)\n",
    "        self.slope_ = numerator / denominator\n",
    "        self.intercept_ = y_mean - self.slope_ * x_mean\n",
    "        y_pred = self.intercept_ + self.slope_ * x\n",
    "        self.residual_ = y - y_pred\n",
    "        self.RSS = np.sum(self.residual_ ** 2)\n",
    "        self.TSS = np.sum((y - y_mean) ** 2)\n",
    "        self.r2score_ = 1 - (self.RSS / self.TSS)\n",
    "        \n",
    "        \n",
    "        \n",
    "    def predict(self, x):\n",
    "        return self.intercept_ + self.slope_ * x"
   ]
  },
  {
   "cell_type": "code",
   "execution_count": 18,
   "metadata": {},
   "outputs": [
    {
     "name": "stdout",
     "output_type": "stream",
     "text": [
      "<class 'dict'>\n",
      "dict_keys(['x', 'y'])\n"
     ]
    }
   ],
   "source": [
    "d = {'x': [1, 2, 3, 4, 5], 'y': [0.9, 2.5, 3.6, 3.5, 4.6]}\n",
    "\n",
    "print(type(d))\n",
    "print(d.keys())\n",
    "\n",
    "# <class 'dict'>\n",
    "# dict_keys(['x', 'y'])"
   ]
  },
  {
   "cell_type": "code",
   "execution_count": 19,
   "metadata": {},
   "outputs": [
    {
     "name": "stdout",
     "output_type": "stream",
     "text": [
      "<class 'pandas.core.frame.DataFrame'>\n",
      "Index(['x', 'y'], dtype='object')\n",
      "2\n",
      "(5, 2)\n",
      "x      int64\n",
      "y    float64\n",
      "dtype: object\n"
     ]
    }
   ],
   "source": [
    "df = pd.DataFrame(data=d)\n",
    "\n",
    "print(type(df))\n",
    "print(df.columns)\n",
    "print(df.ndim)\n",
    "print(df.shape)\n",
    "print(df.dtypes)"
   ]
  },
  {
   "cell_type": "code",
   "execution_count": 20,
   "metadata": {},
   "outputs": [
    {
     "data": {
      "text/html": [
       "<div>\n",
       "<style scoped>\n",
       "    .dataframe tbody tr th:only-of-type {\n",
       "        vertical-align: middle;\n",
       "    }\n",
       "\n",
       "    .dataframe tbody tr th {\n",
       "        vertical-align: top;\n",
       "    }\n",
       "\n",
       "    .dataframe thead th {\n",
       "        text-align: right;\n",
       "    }\n",
       "</style>\n",
       "<table border=\"1\" class=\"dataframe\">\n",
       "  <thead>\n",
       "    <tr style=\"text-align: right;\">\n",
       "      <th></th>\n",
       "      <th>x</th>\n",
       "      <th>y</th>\n",
       "    </tr>\n",
       "  </thead>\n",
       "  <tbody>\n",
       "    <tr>\n",
       "      <th>0</th>\n",
       "      <td>1</td>\n",
       "      <td>0.9</td>\n",
       "    </tr>\n",
       "    <tr>\n",
       "      <th>1</th>\n",
       "      <td>2</td>\n",
       "      <td>2.5</td>\n",
       "    </tr>\n",
       "    <tr>\n",
       "      <th>2</th>\n",
       "      <td>3</td>\n",
       "      <td>3.6</td>\n",
       "    </tr>\n",
       "    <tr>\n",
       "      <th>3</th>\n",
       "      <td>4</td>\n",
       "      <td>3.5</td>\n",
       "    </tr>\n",
       "    <tr>\n",
       "      <th>4</th>\n",
       "      <td>5</td>\n",
       "      <td>4.6</td>\n",
       "    </tr>\n",
       "  </tbody>\n",
       "</table>\n",
       "</div>"
      ],
      "text/plain": [
       "   x    y\n",
       "0  1  0.9\n",
       "1  2  2.5\n",
       "2  3  3.6\n",
       "3  4  3.5\n",
       "4  5  4.6"
      ]
     },
     "execution_count": 20,
     "metadata": {},
     "output_type": "execute_result"
    }
   ],
   "source": [
    "df"
   ]
  },
  {
   "cell_type": "code",
   "execution_count": 21,
   "metadata": {},
   "outputs": [],
   "source": [
    "X = df.iloc[:, :1].values    # input  or feature or independent variable \n",
    "y = df.iloc[:, -1].values    # output or target  or dependent variable "
   ]
  },
  {
   "cell_type": "code",
   "execution_count": 22,
   "metadata": {},
   "outputs": [
    {
     "name": "stdout",
     "output_type": "stream",
     "text": [
      "<class 'numpy.ndarray'>\n",
      "2\n",
      "(5, 1)\n",
      "<class 'numpy.ndarray'>\n",
      "1\n",
      "(5,)\n"
     ]
    }
   ],
   "source": [
    "print(type(X))\n",
    "print(X.ndim)\n",
    "print(X.shape)\n",
    "\n",
    "print(type(y))\n",
    "print(y.ndim)\n",
    "print(y.shape)"
   ]
  },
  {
   "cell_type": "code",
   "execution_count": 31,
   "metadata": {},
   "outputs": [
    {
     "data": {
      "text/plain": [
       "array([[1],\n",
       "       [2],\n",
       "       [3],\n",
       "       [4],\n",
       "       [5]])"
      ]
     },
     "execution_count": 31,
     "metadata": {},
     "output_type": "execute_result"
    }
   ],
   "source": [
    "X"
   ]
  },
  {
   "cell_type": "code",
   "execution_count": 32,
   "metadata": {},
   "outputs": [
    {
     "data": {
      "text/plain": [
       "array([0.9, 2.5, 3.6, 3.5, 4.6])"
      ]
     },
     "execution_count": 32,
     "metadata": {},
     "output_type": "execute_result"
    }
   ],
   "source": [
    "y"
   ]
  },
  {
   "cell_type": "code",
   "execution_count": 26,
   "metadata": {},
   "outputs": [],
   "source": [
    "x = X.flatten()"
   ]
  },
  {
   "cell_type": "markdown",
   "metadata": {},
   "source": [
    "nested lists or arrays to transform them into a single-dimensional list or array."
   ]
  },
  {
   "cell_type": "code",
   "execution_count": 33,
   "metadata": {},
   "outputs": [
    {
     "name": "stdout",
     "output_type": "stream",
     "text": [
      "1\n",
      "(5,)\n"
     ]
    }
   ],
   "source": [
    "print(x.ndim)\n",
    "print(x.shape)"
   ]
  },
  {
   "cell_type": "code",
   "execution_count": 27,
   "metadata": {},
   "outputs": [
    {
     "name": "stdout",
     "output_type": "stream",
     "text": [
      "[1 2 3 4 5]\n",
      "[0.9 2.5 3.6 3.5 4.6]\n"
     ]
    }
   ],
   "source": [
    "print(x)\n",
    "print(y)"
   ]
  },
  {
   "cell_type": "code",
   "execution_count": 28,
   "metadata": {},
   "outputs": [],
   "source": [
    "model = SimpleLinearRegression()\n",
    "model.fit(x, y)\n",
    "pred = model.predict(x)"
   ]
  },
  {
   "cell_type": "code",
   "execution_count": 29,
   "metadata": {},
   "outputs": [
    {
     "name": "stdout",
     "output_type": "stream",
     "text": [
      "Simple linear equation: y = 0.50 + 0.84x\n",
      "Slope: 0.84\n",
      "Intercept: 0.50\n",
      "Residual: [-0.44  0.32  0.58 -0.36 -0.1 ]\n",
      "Residual sum of squares (RSS): 0.77\n",
      "Total sum of squares (TSS): 7.83\n",
      "Coefficient of determination (R^2): 0.90\n",
      "[0.9 2.5 3.6 3.5 4.6]\n",
      "[1.34 2.18 3.02 3.86 4.7 ]\n"
     ]
    }
   ],
   "source": [
    "print(f\"Simple linear equation: y = {model.intercept_:.2f} + {model.slope_:.2f}x\")\n",
    "print(f\"Slope: {model.slope_:.2f}\")\n",
    "print(f\"Intercept: {model.intercept_:.2f}\")\n",
    "print(f\"Residual: {model.residual_}\")\n",
    "print(f\"Residual sum of squares (RSS): {model.RSS:.2f}\")\n",
    "print(f\"Total sum of squares (TSS): {model.TSS:.2f}\")\n",
    "print(f\"Coefficient of determination (R^2): {model.r2score_:.2f}\")\n",
    "\n",
    "\n",
    "print(y)\n",
    "\n",
    "\n",
    "print(pred)\n"
   ]
  },
  {
   "cell_type": "code",
   "execution_count": 30,
   "metadata": {},
   "outputs": [
    {
     "data": {
      "image/png": "[encoded data removed]",
      "text/plain": [
       "<Figure size 640x480 with 1 Axes>"
      ]
     },
     "metadata": {},
     "output_type": "display_data"
    }
   ],
   "source": [
    "# Plot the observed values and the regression line\n",
    "plt.scatter(x, y, label='Observed values')\n",
    "plt.plot(x, pred, color='red', marker='o', label='Regression line')\n",
    "plt.xlabel('x')\n",
    "plt.ylabel('y')\n",
    "plt.legend()\n",
    "plt.show()"
   ]
  }
 ],
 "metadata": {
  "kernelspec": {
   "display_name": "Python 3.11.3 64-bit",
   "language": "python",
   "name": "python3"
  },
  "language_info": {
   "codemirror_mode": {
    "name": "ipython",
    "version": 3
   },
   "file_extension": ".py",
   "mimetype": "text/x-python",
   "name": "python",
   "nbconvert_exporter": "python",
   "pygments_lexer": "ipython3",
   "version": "3.11.3"
  },
  "orig_nbformat": 4,
  "vscode": {
   "interpreter": {
    "hash": "b0fa6594d8f4cbf19f97940f81e996739fb7646882a419484c72d19e05852a7e"
   }
  }
 },
 "nbformat": 4,
 "nbformat_minor": 2
}
