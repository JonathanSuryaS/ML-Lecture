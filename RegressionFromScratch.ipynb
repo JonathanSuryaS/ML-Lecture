{
 "cells": [
  {
   "cell_type": "markdown",
   "metadata": {},
   "source": [
    "# Linear Regression from Scratch"
   ]
  },
  {
   "cell_type": "markdown",
   "metadata": {},
   "source": [
    "# Libraries"
   ]
  },
  {
   "cell_type": "code",
   "execution_count": 1,
   "metadata": {},
   "outputs": [
    {
     "name": "stderr",
     "output_type": "stream",
     "text": [
      "/var/folders/gs/8hzdd84d32s7yqjqg1s3g19h0000gn/T/ipykernel_3490/1032910720.py:2: DeprecationWarning:\n",
      "\n",
      "\n",
      "Pyarrow will become a required dependency of pandas in the next major release of pandas (pandas 3.0),\n",
      "(to allow more performant data types, such as the Arrow string type, and better interoperability with other libraries)\n",
      "but was not found to be installed on your system.\n",
      "If this would cause problems for you,\n",
      "please provide us feedback at https://github.com/pandas-dev/pandas/issues/54466\n",
      "        \n",
      "\n"
     ]
    }
   ],
   "source": [
    "import numpy as np\n",
    "import pandas as pd\n",
    "import matplotlib.pyplot as plt\n",
    "import seaborn as sns\n",
    "import plotly.express as px"
   ]
  },
  {
   "cell_type": "code",
   "execution_count": null,
   "metadata": {},
   "outputs": [],
   "source": [
    "class SimpleLinearRegression:\n",
    "    def __init__(self):\n",
    "        self.slope_ = None\n",
    "        self.intercept_ = None\n",
    "        self.residual_ = None\n",
    "        self.RSS = None\n",
    "        self.TSS = None\n",
    "        self.r2score_ = None\n",
    "        \n",
    "    def fit(self, x, y):\n",
    "        # Calculate the mean of the input (x) and output data (y)\n",
    "        x_mean = np.mean(x)\n",
    "        y_mean = np.mean(y)\n",
    "        \n",
    "        # Calculate the terms needed for the slope (b1) and intercept (bo) of the regression line \n",
    "        numerator = np.sum((x - x_mean) * (y - y_mean))\n",
    "        denominator = np.sum((x - x_mean) ** 2)\n",
    "\n",
    "        # Calculate the slope (b1) and intercept (bo) of the regression line (regression equation)\n",
    "        self.slope_ = numerator / denominator\n",
    "        self.intercept_ = y_mean - self.slope_ * x_mean\n",
    "        y_pred = self.intercept_ + self.slope_ * x\n",
    "        \n",
    "        \n",
    "        \n",
    "    def predict(self, x):\n",
    "        return self.intercept_ + self.slope_ * x"
   ]
  }
 ],
 "metadata": {
  "kernelspec": {
   "display_name": "Python 3.11.3 64-bit",
   "language": "python",
   "name": "python3"
  },
  "language_info": {
   "codemirror_mode": {
    "name": "ipython",
    "version": 3
   },
   "file_extension": ".py",
   "mimetype": "text/x-python",
   "name": "python",
   "nbconvert_exporter": "python",
   "pygments_lexer": "ipython3",
   "version": "3.11.3"
  },
  "orig_nbformat": 4,
  "vscode": {
   "interpreter": {
    "hash": "b0fa6594d8f4cbf19f97940f81e996739fb7646882a419484c72d19e05852a7e"
   }
  }
 },
 "nbformat": 4,
 "nbformat_minor": 2
}
