{
 "cells": [
  {
   "cell_type": "markdown",
   "id": "0a0860d4",
   "metadata": {},
   "source": [
    "# Hands on  Naive Bayes From Scratch without Library"
   ]
  },
  {
   "cell_type": "markdown",
   "id": "e0a30c0c",
   "metadata": {},
   "source": [
    "## By Johannes Simatupang M.Kom.,COBIT5 (Feb 2024)"
   ]
  },
  {
   "cell_type": "markdown",
   "id": "c886b198",
   "metadata": {},
   "source": [
    "COMP6577 - Machine Learning >>> Bina Nusantara University"
   ]
  },
  {
   "cell_type": "code",
   "execution_count": 110,
   "id": "7e491c69",
   "metadata": {},
   "outputs": [],
   "source": [
    "import numpy as np \n",
    "import pandas as pd \n",
    "import matplotlib.pyplot as plt \n",
    "import math"
   ]
  },
  {
   "cell_type": "code",
   "execution_count": 111,
   "id": "98fa1336",
   "metadata": {},
   "outputs": [],
   "source": [
    "def accuracy_score(y_true, y_pred):\n",
    "    \"\"\"\tscore = (y_true - y_pred) / len(y_true) \"\"\"\n",
    "    return round(float(sum(y_pred == y_true))/float(len(y_true)) * 100 ,2)"
   ]
  },
  {
   "cell_type": "code",
   "execution_count": 112,
   "id": "b0cf848f",
   "metadata": {},
   "outputs": [],
   "source": [
    "def pre_processing(df):\n",
    "    \"\"\" partioning data into features and target \"\"\"\n",
    "    X = df.drop([df.columns[-1]], axis = 1)\n",
    "    y = df[df.columns[-1]]\n",
    "    return X, y"
   ]
  },
  {
   "cell_type": "code",
   "execution_count": 113,
   "id": "eff837e3",
   "metadata": {},
   "outputs": [],
   "source": [
    "class  NaiveBayes:\n",
    "\n",
    "    def __init__(self):\n",
    "\n",
    "        \"\"\"\n",
    "            Attributes:\n",
    "                likelihoods: Likelihood of each feature per class\n",
    "                class_priors: Prior probabilities of classes \n",
    "                pred_priors: Prior probabilities of features \n",
    "                features: All features of dataset\n",
    "        \"\"\"\n",
    "        self.features = list\n",
    "        self.likelihoods = {}\n",
    "        self.class_priors = {}\n",
    "        self.pred_priors = {}\n",
    "\n",
    "        self.X_train = np.array\n",
    "        self.y_train = np.array\n",
    "        self.train_size = int\n",
    "        self.num_feats = int\n",
    "\n",
    "    def fit(self, X, y):\n",
    "\n",
    "        self.features = list(X.columns)\n",
    "        self.X_train = X\n",
    "        self.y_train = y\n",
    "        self.train_size = X.shape[0]\n",
    "        self.num_feats = X.shape[1]\n",
    "\n",
    "        for feature in self.features:\n",
    "            self.likelihoods[feature] = {}\n",
    "            self.pred_priors[feature] = {}\n",
    "\n",
    "            for feat_val in np.unique(self.X_train[feature]):\n",
    "                self.pred_priors[feature].update({feat_val: 0})\n",
    "\n",
    "                for outcome in np.unique(self.y_train):\n",
    "                    self.likelihoods[feature].update({feat_val+'_'+outcome:0})\n",
    "                    self.class_priors.update({outcome: 0})\n",
    "\n",
    "        self._calc_class_prior()\n",
    "        self._calc_likelihoods()\n",
    "        self._calc_predictor_prior()\n",
    "\n",
    "    def _calc_class_prior(self):\n",
    "\n",
    "        \"\"\" P(c) - Prior Class Probability \"\"\"\n",
    "\n",
    "        for outcome in np.unique(self.y_train):\n",
    "            outcome_count = sum(self.y_train == outcome)\n",
    "            self.class_priors[outcome] = outcome_count / self.train_size\n",
    "   \n",
    "\n",
    "\n",
    "    def _calc_likelihoods(self):\n",
    "\n",
    "        \"\"\" P(x|c) - Likelihood \"\"\"\n",
    "\n",
    "        for feature in self.features:\n",
    "\n",
    "            for outcome in np.unique(self.y_train):\n",
    "                outcome_count = sum(self.y_train == outcome)\n",
    "                feat_likelihood = self.X_train[feature][self.y_train[self.y_train == outcome].index.values.tolist()].value_counts().to_dict()\n",
    "\n",
    "                for feat_val, count in feat_likelihood.items():\n",
    "                    self.likelihoods[feature][feat_val + '_' + outcome] = count/outcome_count\n",
    "\n",
    "\n",
    "    def _calc_predictor_prior(self):\n",
    "\n",
    "        \"\"\" P(x) - Evidence \"\"\"\n",
    "\n",
    " \n",
    "\n",
    "\n",
    "    def predict(self, X):\n",
    "\n",
    "        \"\"\" Calculates Posterior probability P(c|x) \"\"\"\n",
    "\n",
    "        results = []\n",
    "        X = np.array(X)\n",
    "\n",
    "        for query in X:\n",
    "            probs_outcome = {}\n",
    "            for outcome in np.unique(self.y_train):\n",
    "                prior = self.class_priors[outcome]\n",
    "                likelihood = 1\n",
    "                evidence = 1\n",
    "\n",
    "                for feat, feat_val in zip(self.features, query):\n",
    "                    likelihood *= self.likelihoods[feat][feat_val + '_' + outcome]\n",
    "                    evidence *= self.pred_priors[feat][feat_val]\n",
    "\n",
    "                posterior = (likelihood * prior) / (evidence)\n",
    "\n",
    "                probs_outcome[outcome] = posterior\n",
    "\n",
    "            result = max(probs_outcome, key = lambda x: probs_outcome[x])\n",
    "            results.append(result)\n",
    "\n",
    "        return np.array(results)\n"
   ]
  },
  {
   "cell_type": "code",
   "execution_count": 114,
   "id": "ba98a969",
   "metadata": {},
   "outputs": [
    {
     "name": "stdout",
     "output_type": "stream",
     "text": [
      "\n",
      "Weather Dataset:\n",
      "Train Accuracy: 92.86\n",
      "Query 1:- [['Rainy' 'Mild' 'Normal' 't']] ---> ['yes']\n",
      "Query 2:- [['Overcast' 'Cool' 'Normal' 't']] ---> ['yes']\n",
      "Query 3:- [['Sunny' 'Hot' 'High' 't']] ---> ['no']\n"
     ]
    }
   ],
   "source": [
    "if __name__ == \"__main__\":\n",
    "\n",
    "    #Weather Dataset\n",
    "    print(\"\\nWeather Dataset:\")\n",
    "\n",
    "    df = pd.read_table(\"weather.txt\")\n",
    "    #print(df)\n",
    "\n",
    "    #Split fearures and target\n",
    " \n",
    "\n",
    "\n",
    "\n",
    "\n",
    "    print(\"Train Accuracy: {}\".format(accuracy_score(y, nb_clf.predict(X))))\n",
    "\n",
    "    #Query 1:\n",
    "    query = np.array([['Rainy','Mild', 'Normal', 't']])\n",
    "    print(\"Query 1:- {} ---> {}\".format(query, nb_clf.predict(query)))\n",
    "\n",
    "    #Query 2:\n",
    "    query = np.array([['Overcast','Cool', 'Normal', 't']])\n",
    "    print(\"Query 2:- {} ---> {}\".format(query, nb_clf.predict(query)))\n",
    "\n",
    "    #Query 3:\n",
    "    query = np.array([['Sunny','Hot', 'High', 't']])\n",
    "    print(\"Query 3:- {} ---> {}\".format(query, nb_clf.predict(query)))\n"
   ]
  },
  {
   "cell_type": "markdown",
   "id": "422a4eba",
   "metadata": {},
   "source": [
    "source : https://medium.com/@rangavamsi5/na%C3%AFve-bayes-algorithm-implementation-from-scratch-in-python-7b2cc39268b9"
   ]
  }
 ],
 "metadata": {
  "kernelspec": {
   "display_name": "Python 3.11.3 64-bit",
   "language": "python",
   "name": "python3"
  },
  "language_info": {
   "codemirror_mode": {
    "name": "ipython",
    "version": 3
   },
   "file_extension": ".py",
   "mimetype": "text/x-python",
   "name": "python",
   "nbconvert_exporter": "python",
   "pygments_lexer": "ipython3",
   "version": "3.11.3"
  },
  "vscode": {
   "interpreter": {
    "hash": "b0fa6594d8f4cbf19f97940f81e996739fb7646882a419484c72d19e05852a7e"
   }
  }
 },
 "nbformat": 4,
 "nbformat_minor": 5
}
